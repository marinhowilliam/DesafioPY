{
  "nbformat": 4,
  "nbformat_minor": 0,
  "metadata": {
    "colab": {
      "provenance": [],
      "authorship_tag": "ABX9TyNZuD7cMvC1CznVlQ6igE6d",
      "include_colab_link": true
    },
    "kernelspec": {
      "name": "python3",
      "display_name": "Python 3"
    },
    "language_info": {
      "name": "python"
    }
  },
  "cells": [
    {
      "cell_type": "markdown",
      "metadata": {
        "id": "view-in-github",
        "colab_type": "text"
      },
      "source": [
        "<a href=\"https://colab.research.google.com/github/marinhowilliam/DesafioPY/blob/main/somarVetoresPY.ipynb\" target=\"_parent\"><img src=\"https://colab.research.google.com/assets/colab-badge.svg\" alt=\"Open In Colab\"/></a>"
      ]
    },
    {
      "cell_type": "code",
      "source": [
        "#soma de vetores\n",
        "semestre1 = [10, 9, 8, 7]\n",
        "semestre2 = [6, 5, 4, 3]\n",
        "\n",
        "soma1 = 0\n",
        "for total1 in semestre1:\n",
        "    soma1 += total1\n",
        "    div1 = soma1 / 4\n",
        "\n",
        "soma2 = 0\n",
        "for total2 in semestre2:\n",
        "    soma2 += total2\n",
        "    div2 = soma2 / 4\n",
        "\n",
        "media = (div1) + (div2) / 2\n",
        "\n",
        "print(media)"
      ],
      "metadata": {
        "colab": {
          "base_uri": "https://localhost:8080/"
        },
        "id": "PrvZXc4NSTpz",
        "outputId": "6fbfcdc1-bd6d-4b92-c719-ea027f927c4d"
      },
      "execution_count": 5,
      "outputs": [
        {
          "output_type": "stream",
          "name": "stdout",
          "text": [
            "10.75\n"
          ]
        }
      ]
    }
  ]
}