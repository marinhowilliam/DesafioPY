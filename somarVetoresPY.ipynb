{
  "nbformat": 4,
  "nbformat_minor": 0,
  "metadata": {
    "colab": {
      "provenance": [],
      "authorship_tag": "ABX9TyP3mNt1WWRcPnq3WDVt+O1U",
      "include_colab_link": true
    },
    "kernelspec": {
      "name": "python3",
      "display_name": "Python 3"
    },
    "language_info": {
      "name": "python"
    }
  },
  "cells": [
    {
      "cell_type": "markdown",
      "metadata": {
        "id": "view-in-github",
        "colab_type": "text"
      },
      "source": [
        "<a href=\"https://colab.research.google.com/github/marinhowilliam/DesafioPY/blob/main/somarVetoresPY.ipynb\" target=\"_parent\"><img src=\"https://colab.research.google.com/assets/colab-badge.svg\" alt=\"Open In Colab\"/></a>"
      ]
    },
    {
      "cell_type": "code",
      "source": [
        "#soma de vetores\n",
        "semestre1 = [10, 9, 8, 7]\n",
        "semestre2 = [6, 5, 4, 3]\n",
        "\n",
        "soma1 = 0\n",
        "for total1 in semestre1:\n",
        "    soma1 += total1\n",
        "    div1 = total1 / 4\n",
        "\n",
        "soma2 = 0\n",
        "for total2 in semestre2:\n",
        "    soma2 += total2\n",
        "    div2 = total2 / 4\n",
        "\n",
        "media = (div1) + (div2) / 2\n",
        "\n",
        "print(media)"
      ],
      "metadata": {
        "colab": {
          "base_uri": "https://localhost:8080/"
        },
        "id": "PrvZXc4NSTpz",
        "outputId": "ad8de986-9a4c-437d-e643-c64bc478d564"
      },
      "execution_count": 17,
      "outputs": [
        {
          "output_type": "stream",
          "name": "stdout",
          "text": [
            "2.125\n"
          ]
        }
      ]
    }
  ]
}